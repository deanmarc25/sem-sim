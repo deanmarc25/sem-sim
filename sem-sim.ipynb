{
 "cells": [
  {
   "cell_type": "code",
   "execution_count": 1,
   "metadata": {},
   "outputs": [
    {
     "name": "stdout",
     "output_type": "stream",
     "text": [
      "Requirement already satisfied: torch in /Users/mdj/miniconda3/lib/python3.10/site-packages (2.0.1)\n",
      "Requirement already satisfied: filelock in /Users/mdj/miniconda3/lib/python3.10/site-packages (from torch) (3.12.2)\n",
      "Requirement already satisfied: jinja2 in /Users/mdj/miniconda3/lib/python3.10/site-packages (from torch) (3.1.2)\n",
      "Requirement already satisfied: networkx in /Users/mdj/miniconda3/lib/python3.10/site-packages (from torch) (3.1)\n",
      "Requirement already satisfied: typing-extensions in /Users/mdj/miniconda3/lib/python3.10/site-packages (from torch) (4.7.1)\n",
      "Requirement already satisfied: sympy in /Users/mdj/miniconda3/lib/python3.10/site-packages (from torch) (1.12)\n",
      "Requirement already satisfied: MarkupSafe>=2.0 in /Users/mdj/miniconda3/lib/python3.10/site-packages (from jinja2->torch) (2.1.3)\n",
      "Requirement already satisfied: mpmath>=0.19 in /Users/mdj/miniconda3/lib/python3.10/site-packages (from sympy->torch) (1.3.0)\n",
      "Requirement already satisfied: transformers in /Users/mdj/miniconda3/lib/python3.10/site-packages (4.30.2)\n",
      "Requirement already satisfied: packaging>=20.0 in /Users/mdj/miniconda3/lib/python3.10/site-packages (from transformers) (23.0)\n",
      "Requirement already satisfied: filelock in /Users/mdj/miniconda3/lib/python3.10/site-packages (from transformers) (3.12.2)\n",
      "Requirement already satisfied: numpy>=1.17 in /Users/mdj/miniconda3/lib/python3.10/site-packages (from transformers) (1.25.1)\n",
      "Requirement already satisfied: regex!=2019.12.17 in /Users/mdj/miniconda3/lib/python3.10/site-packages (from transformers) (2023.6.3)\n",
      "Requirement already satisfied: tqdm>=4.27 in /Users/mdj/miniconda3/lib/python3.10/site-packages (from transformers) (4.65.0)\n",
      "Requirement already satisfied: pyyaml>=5.1 in /Users/mdj/miniconda3/lib/python3.10/site-packages (from transformers) (6.0)\n",
      "Requirement already satisfied: huggingface-hub<1.0,>=0.14.1 in /Users/mdj/miniconda3/lib/python3.10/site-packages (from transformers) (0.16.4)\n",
      "Requirement already satisfied: requests in /Users/mdj/miniconda3/lib/python3.10/site-packages (from transformers) (2.28.1)\n",
      "Requirement already satisfied: tokenizers!=0.11.3,<0.14,>=0.11.1 in /Users/mdj/miniconda3/lib/python3.10/site-packages (from transformers) (0.13.3)\n",
      "Requirement already satisfied: safetensors>=0.3.1 in /Users/mdj/miniconda3/lib/python3.10/site-packages (from transformers) (0.3.1)\n",
      "Requirement already satisfied: fsspec in /Users/mdj/miniconda3/lib/python3.10/site-packages (from huggingface-hub<1.0,>=0.14.1->transformers) (2023.6.0)\n",
      "Requirement already satisfied: typing-extensions>=3.7.4.3 in /Users/mdj/miniconda3/lib/python3.10/site-packages (from huggingface-hub<1.0,>=0.14.1->transformers) (4.7.1)\n",
      "Requirement already satisfied: idna<4,>=2.5 in /Users/mdj/miniconda3/lib/python3.10/site-packages (from requests->transformers) (3.4)\n",
      "Requirement already satisfied: certifi>=2017.4.17 in /Users/mdj/miniconda3/lib/python3.10/site-packages (from requests->transformers) (2023.5.7)\n",
      "Requirement already satisfied: urllib3<1.27,>=1.21.1 in /Users/mdj/miniconda3/lib/python3.10/site-packages (from requests->transformers) (1.26.15)\n",
      "Requirement already satisfied: charset-normalizer<3,>=2 in /Users/mdj/miniconda3/lib/python3.10/site-packages (from requests->transformers) (2.0.4)\n",
      "Requirement already satisfied: datasets in /Users/mdj/miniconda3/lib/python3.10/site-packages (2.14.1)\n",
      "Requirement already satisfied: packaging in /Users/mdj/miniconda3/lib/python3.10/site-packages (from datasets) (23.0)\n",
      "Requirement already satisfied: requests>=2.19.0 in /Users/mdj/miniconda3/lib/python3.10/site-packages (from datasets) (2.28.1)\n",
      "Requirement already satisfied: tqdm>=4.62.1 in /Users/mdj/miniconda3/lib/python3.10/site-packages (from datasets) (4.65.0)\n",
      "Requirement already satisfied: fsspec[http]>=2021.11.1 in /Users/mdj/miniconda3/lib/python3.10/site-packages (from datasets) (2023.6.0)\n",
      "Requirement already satisfied: numpy>=1.17 in /Users/mdj/miniconda3/lib/python3.10/site-packages (from datasets) (1.25.1)\n",
      "Requirement already satisfied: pyyaml>=5.1 in /Users/mdj/miniconda3/lib/python3.10/site-packages (from datasets) (6.0)\n",
      "Requirement already satisfied: pandas in /Users/mdj/miniconda3/lib/python3.10/site-packages (from datasets) (2.0.3)\n",
      "Requirement already satisfied: multiprocess in /Users/mdj/miniconda3/lib/python3.10/site-packages (from datasets) (0.70.15)\n",
      "Requirement already satisfied: aiohttp in /Users/mdj/miniconda3/lib/python3.10/site-packages (from datasets) (3.8.4)\n",
      "Requirement already satisfied: xxhash in /Users/mdj/miniconda3/lib/python3.10/site-packages (from datasets) (3.2.0)\n",
      "Requirement already satisfied: dill<0.3.8,>=0.3.0 in /Users/mdj/miniconda3/lib/python3.10/site-packages (from datasets) (0.3.7)\n",
      "Requirement already satisfied: huggingface-hub<1.0.0,>=0.14.0 in /Users/mdj/miniconda3/lib/python3.10/site-packages (from datasets) (0.16.4)\n",
      "Requirement already satisfied: pyarrow>=8.0.0 in /Users/mdj/miniconda3/lib/python3.10/site-packages (from datasets) (12.0.1)\n",
      "Requirement already satisfied: charset-normalizer<4.0,>=2.0 in /Users/mdj/miniconda3/lib/python3.10/site-packages (from aiohttp->datasets) (2.0.4)\n",
      "Requirement already satisfied: yarl<2.0,>=1.0 in /Users/mdj/miniconda3/lib/python3.10/site-packages (from aiohttp->datasets) (1.9.2)\n",
      "Requirement already satisfied: attrs>=17.3.0 in /Users/mdj/miniconda3/lib/python3.10/site-packages (from aiohttp->datasets) (23.1.0)\n",
      "Requirement already satisfied: async-timeout<5.0,>=4.0.0a3 in /Users/mdj/miniconda3/lib/python3.10/site-packages (from aiohttp->datasets) (4.0.2)\n",
      "Requirement already satisfied: frozenlist>=1.1.1 in /Users/mdj/miniconda3/lib/python3.10/site-packages (from aiohttp->datasets) (1.4.0)\n",
      "Requirement already satisfied: aiosignal>=1.1.2 in /Users/mdj/miniconda3/lib/python3.10/site-packages (from aiohttp->datasets) (1.3.1)\n",
      "Requirement already satisfied: multidict<7.0,>=4.5 in /Users/mdj/miniconda3/lib/python3.10/site-packages (from aiohttp->datasets) (6.0.4)\n",
      "Requirement already satisfied: typing-extensions>=3.7.4.3 in /Users/mdj/miniconda3/lib/python3.10/site-packages (from huggingface-hub<1.0.0,>=0.14.0->datasets) (4.7.1)\n",
      "Requirement already satisfied: filelock in /Users/mdj/miniconda3/lib/python3.10/site-packages (from huggingface-hub<1.0.0,>=0.14.0->datasets) (3.12.2)\n",
      "Requirement already satisfied: urllib3<1.27,>=1.21.1 in /Users/mdj/miniconda3/lib/python3.10/site-packages (from requests>=2.19.0->datasets) (1.26.15)\n",
      "Requirement already satisfied: idna<4,>=2.5 in /Users/mdj/miniconda3/lib/python3.10/site-packages (from requests>=2.19.0->datasets) (3.4)\n",
      "Requirement already satisfied: certifi>=2017.4.17 in /Users/mdj/miniconda3/lib/python3.10/site-packages (from requests>=2.19.0->datasets) (2023.5.7)\n",
      "Requirement already satisfied: pytz>=2020.1 in /Users/mdj/miniconda3/lib/python3.10/site-packages (from pandas->datasets) (2023.3)\n",
      "Requirement already satisfied: tzdata>=2022.1 in /Users/mdj/miniconda3/lib/python3.10/site-packages (from pandas->datasets) (2023.3)\n",
      "Requirement already satisfied: python-dateutil>=2.8.2 in /Users/mdj/miniconda3/lib/python3.10/site-packages (from pandas->datasets) (2.8.2)\n",
      "Requirement already satisfied: six>=1.5 in /Users/mdj/miniconda3/lib/python3.10/site-packages (from python-dateutil>=2.8.2->pandas->datasets) (1.16.0)\n",
      "Requirement already satisfied: matplotlib in /Users/mdj/miniconda3/lib/python3.10/site-packages (3.7.2)\n",
      "Requirement already satisfied: contourpy>=1.0.1 in /Users/mdj/miniconda3/lib/python3.10/site-packages (from matplotlib) (1.1.0)\n",
      "Requirement already satisfied: packaging>=20.0 in /Users/mdj/miniconda3/lib/python3.10/site-packages (from matplotlib) (23.0)\n",
      "Requirement already satisfied: kiwisolver>=1.0.1 in /Users/mdj/miniconda3/lib/python3.10/site-packages (from matplotlib) (1.4.4)\n",
      "Requirement already satisfied: python-dateutil>=2.7 in /Users/mdj/miniconda3/lib/python3.10/site-packages (from matplotlib) (2.8.2)\n",
      "Requirement already satisfied: cycler>=0.10 in /Users/mdj/miniconda3/lib/python3.10/site-packages (from matplotlib) (0.11.0)\n",
      "Requirement already satisfied: pyparsing<3.1,>=2.3.1 in /Users/mdj/miniconda3/lib/python3.10/site-packages (from matplotlib) (3.0.9)\n",
      "Requirement already satisfied: fonttools>=4.22.0 in /Users/mdj/miniconda3/lib/python3.10/site-packages (from matplotlib) (4.41.1)\n",
      "Requirement already satisfied: pillow>=6.2.0 in /Users/mdj/miniconda3/lib/python3.10/site-packages (from matplotlib) (10.0.0)\n",
      "Requirement already satisfied: numpy>=1.20 in /Users/mdj/miniconda3/lib/python3.10/site-packages (from matplotlib) (1.25.1)\n",
      "Requirement already satisfied: six>=1.5 in /Users/mdj/miniconda3/lib/python3.10/site-packages (from python-dateutil>=2.7->matplotlib) (1.16.0)\n",
      "Requirement already satisfied: scikit-learn in /Users/mdj/miniconda3/lib/python3.10/site-packages (1.3.0)\n",
      "Requirement already satisfied: joblib>=1.1.1 in /Users/mdj/miniconda3/lib/python3.10/site-packages (from scikit-learn) (1.3.1)\n",
      "Requirement already satisfied: threadpoolctl>=2.0.0 in /Users/mdj/miniconda3/lib/python3.10/site-packages (from scikit-learn) (3.2.0)\n",
      "Requirement already satisfied: scipy>=1.5.0 in /Users/mdj/miniconda3/lib/python3.10/site-packages (from scikit-learn) (1.11.1)\n",
      "Requirement already satisfied: numpy>=1.17.3 in /Users/mdj/miniconda3/lib/python3.10/site-packages (from scikit-learn) (1.25.1)\n",
      "Requirement already satisfied: pandas in /Users/mdj/miniconda3/lib/python3.10/site-packages (2.0.3)\n",
      "Requirement already satisfied: pytz>=2020.1 in /Users/mdj/miniconda3/lib/python3.10/site-packages (from pandas) (2023.3)\n",
      "Requirement already satisfied: python-dateutil>=2.8.2 in /Users/mdj/miniconda3/lib/python3.10/site-packages (from pandas) (2.8.2)\n",
      "Requirement already satisfied: tzdata>=2022.1 in /Users/mdj/miniconda3/lib/python3.10/site-packages (from pandas) (2023.3)\n",
      "Requirement already satisfied: numpy>=1.21.0 in /Users/mdj/miniconda3/lib/python3.10/site-packages (from pandas) (1.25.1)\n",
      "Requirement already satisfied: six>=1.5 in /Users/mdj/miniconda3/lib/python3.10/site-packages (from python-dateutil>=2.8.2->pandas) (1.16.0)\n",
      "Requirement already satisfied: seaborn in /Users/mdj/miniconda3/lib/python3.10/site-packages (0.12.2)\n",
      "Requirement already satisfied: matplotlib!=3.6.1,>=3.1 in /Users/mdj/miniconda3/lib/python3.10/site-packages (from seaborn) (3.7.2)\n",
      "Requirement already satisfied: pandas>=0.25 in /Users/mdj/miniconda3/lib/python3.10/site-packages (from seaborn) (2.0.3)\n",
      "Requirement already satisfied: numpy!=1.24.0,>=1.17 in /Users/mdj/miniconda3/lib/python3.10/site-packages (from seaborn) (1.25.1)\n",
      "Requirement already satisfied: cycler>=0.10 in /Users/mdj/miniconda3/lib/python3.10/site-packages (from matplotlib!=3.6.1,>=3.1->seaborn) (0.11.0)\n",
      "Requirement already satisfied: packaging>=20.0 in /Users/mdj/miniconda3/lib/python3.10/site-packages (from matplotlib!=3.6.1,>=3.1->seaborn) (23.0)\n",
      "Requirement already satisfied: contourpy>=1.0.1 in /Users/mdj/miniconda3/lib/python3.10/site-packages (from matplotlib!=3.6.1,>=3.1->seaborn) (1.1.0)\n",
      "Requirement already satisfied: pillow>=6.2.0 in /Users/mdj/miniconda3/lib/python3.10/site-packages (from matplotlib!=3.6.1,>=3.1->seaborn) (10.0.0)\n",
      "Requirement already satisfied: kiwisolver>=1.0.1 in /Users/mdj/miniconda3/lib/python3.10/site-packages (from matplotlib!=3.6.1,>=3.1->seaborn) (1.4.4)\n",
      "Requirement already satisfied: fonttools>=4.22.0 in /Users/mdj/miniconda3/lib/python3.10/site-packages (from matplotlib!=3.6.1,>=3.1->seaborn) (4.41.1)\n",
      "Requirement already satisfied: pyparsing<3.1,>=2.3.1 in /Users/mdj/miniconda3/lib/python3.10/site-packages (from matplotlib!=3.6.1,>=3.1->seaborn) (3.0.9)\n",
      "Requirement already satisfied: python-dateutil>=2.7 in /Users/mdj/miniconda3/lib/python3.10/site-packages (from matplotlib!=3.6.1,>=3.1->seaborn) (2.8.2)\n",
      "Requirement already satisfied: tzdata>=2022.1 in /Users/mdj/miniconda3/lib/python3.10/site-packages (from pandas>=0.25->seaborn) (2023.3)\n",
      "Requirement already satisfied: pytz>=2020.1 in /Users/mdj/miniconda3/lib/python3.10/site-packages (from pandas>=0.25->seaborn) (2023.3)\n",
      "Requirement already satisfied: six>=1.5 in /Users/mdj/miniconda3/lib/python3.10/site-packages (from python-dateutil>=2.7->matplotlib!=3.6.1,>=3.1->seaborn) (1.16.0)\n",
      "Requirement already satisfied: plotly in /Users/mdj/miniconda3/lib/python3.10/site-packages (5.15.0)\n",
      "Requirement already satisfied: tenacity>=6.2.0 in /Users/mdj/miniconda3/lib/python3.10/site-packages (from plotly) (8.2.2)\n",
      "Requirement already satisfied: packaging in /Users/mdj/miniconda3/lib/python3.10/site-packages (from plotly) (23.0)\n",
      "Requirement already satisfied: ipykernel in /Users/mdj/miniconda3/lib/python3.10/site-packages (6.15.0)\n",
      "Requirement already satisfied: debugpy>=1.0 in /Users/mdj/miniconda3/lib/python3.10/site-packages (from ipykernel) (1.5.1)\n",
      "Requirement already satisfied: matplotlib-inline>=0.1 in /Users/mdj/miniconda3/lib/python3.10/site-packages (from ipykernel) (0.1.6)\n",
      "Requirement already satisfied: jupyter-client>=6.1.12 in /Users/mdj/miniconda3/lib/python3.10/site-packages (from ipykernel) (8.3.0)\n",
      "Requirement already satisfied: psutil in /Users/mdj/miniconda3/lib/python3.10/site-packages (from ipykernel) (5.9.0)\n",
      "Requirement already satisfied: ipython>=7.23.1 in /Users/mdj/miniconda3/lib/python3.10/site-packages (from ipykernel) (8.14.0)\n",
      "Requirement already satisfied: tornado>=6.1 in /Users/mdj/miniconda3/lib/python3.10/site-packages (from ipykernel) (6.2)\n",
      "Requirement already satisfied: packaging in /Users/mdj/miniconda3/lib/python3.10/site-packages (from ipykernel) (23.0)\n",
      "Requirement already satisfied: appnope in /Users/mdj/miniconda3/lib/python3.10/site-packages (from ipykernel) (0.1.3)\n",
      "Requirement already satisfied: nest-asyncio in /Users/mdj/miniconda3/lib/python3.10/site-packages (from ipykernel) (1.5.6)\n",
      "Requirement already satisfied: traitlets>=5.1.0 in /Users/mdj/miniconda3/lib/python3.10/site-packages (from ipykernel) (5.9.0)\n",
      "Requirement already satisfied: pyzmq>=17 in /Users/mdj/miniconda3/lib/python3.10/site-packages (from ipykernel) (25.1.0)\n",
      "Requirement already satisfied: stack-data in /Users/mdj/miniconda3/lib/python3.10/site-packages (from ipython>=7.23.1->ipykernel) (0.6.2)\n",
      "Requirement already satisfied: backcall in /Users/mdj/miniconda3/lib/python3.10/site-packages (from ipython>=7.23.1->ipykernel) (0.2.0)\n",
      "Requirement already satisfied: pexpect>4.3 in /Users/mdj/miniconda3/lib/python3.10/site-packages (from ipython>=7.23.1->ipykernel) (4.8.0)\n",
      "Requirement already satisfied: jedi>=0.16 in /Users/mdj/miniconda3/lib/python3.10/site-packages (from ipython>=7.23.1->ipykernel) (0.18.2)\n",
      "Requirement already satisfied: pickleshare in /Users/mdj/miniconda3/lib/python3.10/site-packages (from ipython>=7.23.1->ipykernel) (0.7.5)\n",
      "Requirement already satisfied: prompt-toolkit!=3.0.37,<3.1.0,>=3.0.30 in /Users/mdj/miniconda3/lib/python3.10/site-packages (from ipython>=7.23.1->ipykernel) (3.0.39)\n",
      "Requirement already satisfied: decorator in /Users/mdj/miniconda3/lib/python3.10/site-packages (from ipython>=7.23.1->ipykernel) (5.1.1)\n",
      "Requirement already satisfied: pygments>=2.4.0 in /Users/mdj/miniconda3/lib/python3.10/site-packages (from ipython>=7.23.1->ipykernel) (2.15.1)\n",
      "Requirement already satisfied: jupyter-core!=5.0.*,>=4.12 in /Users/mdj/miniconda3/lib/python3.10/site-packages (from jupyter-client>=6.1.12->ipykernel) (5.3.1)\n",
      "Requirement already satisfied: python-dateutil>=2.8.2 in /Users/mdj/miniconda3/lib/python3.10/site-packages (from jupyter-client>=6.1.12->ipykernel) (2.8.2)\n",
      "Requirement already satisfied: parso<0.9.0,>=0.8.0 in /Users/mdj/miniconda3/lib/python3.10/site-packages (from jedi>=0.16->ipython>=7.23.1->ipykernel) (0.8.3)\n",
      "Requirement already satisfied: platformdirs>=2.5 in /Users/mdj/miniconda3/lib/python3.10/site-packages (from jupyter-core!=5.0.*,>=4.12->jupyter-client>=6.1.12->ipykernel) (3.9.1)\n",
      "Requirement already satisfied: ptyprocess>=0.5 in /Users/mdj/miniconda3/lib/python3.10/site-packages (from pexpect>4.3->ipython>=7.23.1->ipykernel) (0.7.0)\n",
      "Requirement already satisfied: wcwidth in /Users/mdj/miniconda3/lib/python3.10/site-packages (from prompt-toolkit!=3.0.37,<3.1.0,>=3.0.30->ipython>=7.23.1->ipykernel) (0.2.6)\n",
      "Requirement already satisfied: six>=1.5 in /Users/mdj/miniconda3/lib/python3.10/site-packages (from python-dateutil>=2.8.2->jupyter-client>=6.1.12->ipykernel) (1.16.0)\n",
      "Requirement already satisfied: asttokens>=2.1.0 in /Users/mdj/miniconda3/lib/python3.10/site-packages (from stack-data->ipython>=7.23.1->ipykernel) (2.2.1)\n",
      "Requirement already satisfied: pure-eval in /Users/mdj/miniconda3/lib/python3.10/site-packages (from stack-data->ipython>=7.23.1->ipykernel) (0.2.2)\n",
      "Requirement already satisfied: executing>=1.2.0 in /Users/mdj/miniconda3/lib/python3.10/site-packages (from stack-data->ipython>=7.23.1->ipykernel) (1.2.0)\n",
      "Requirement already satisfied: nbformat in /Users/mdj/miniconda3/lib/python3.10/site-packages (5.9.1)\n",
      "Requirement already satisfied: traitlets>=5.1 in /Users/mdj/miniconda3/lib/python3.10/site-packages (from nbformat) (5.9.0)\n",
      "Requirement already satisfied: fastjsonschema in /Users/mdj/miniconda3/lib/python3.10/site-packages (from nbformat) (2.18.0)\n",
      "Requirement already satisfied: jsonschema>=2.6 in /Users/mdj/miniconda3/lib/python3.10/site-packages (from nbformat) (4.18.4)\n",
      "Requirement already satisfied: jupyter-core in /Users/mdj/miniconda3/lib/python3.10/site-packages (from nbformat) (5.3.1)\n",
      "Requirement already satisfied: attrs>=22.2.0 in /Users/mdj/miniconda3/lib/python3.10/site-packages (from jsonschema>=2.6->nbformat) (23.1.0)\n",
      "Requirement already satisfied: jsonschema-specifications>=2023.03.6 in /Users/mdj/miniconda3/lib/python3.10/site-packages (from jsonschema>=2.6->nbformat) (2023.7.1)\n",
      "Requirement already satisfied: referencing>=0.28.4 in /Users/mdj/miniconda3/lib/python3.10/site-packages (from jsonschema>=2.6->nbformat) (0.30.0)\n",
      "Requirement already satisfied: rpds-py>=0.7.1 in /Users/mdj/miniconda3/lib/python3.10/site-packages (from jsonschema>=2.6->nbformat) (0.9.2)\n",
      "Requirement already satisfied: platformdirs>=2.5 in /Users/mdj/miniconda3/lib/python3.10/site-packages (from jupyter-core->nbformat) (3.9.1)\n"
     ]
    }
   ],
   "source": [
    "# PyTorch: This is the base library on which Hugging Face transformers, which include SBERT, is built.\n",
    "# Transformers: This library from Hugging Face includes the pretrained SBERT model.\n",
    "# Datasets: Another library from Hugging Face, which will allow us to easily load and preprocess datasets.\n",
    "# Matplotlib: This library is used for generating plots to help us visualize our results.\n",
    "# Scikit-learn: This library has many useful tools for machine learning, including a function to calculate cosine similarity.\n",
    "# Pandas: This library is a powerful tool for data manipulation and analysis. We'll use it for examining our dataset.\n",
    "# Seaborn: A statistical data visualization library based on matplotlib. It provides a high-level interface for drawing attractive and informative statistical graphics.\n",
    "\n",
    "!pip install torch\n",
    "!pip install transformers\n",
    "!pip install datasets\n",
    "!pip install matplotlib\n",
    "!pip install scikit-learn\n",
    "!pip install pandas\n",
    "!pip install seaborn\n",
    "!pip install plotly\n",
    "!pip install ipykernel\n",
    "!pip install nbformat\n",
    "\n",
    "\n"
   ]
  },
  {
   "cell_type": "code",
   "execution_count": 2,
   "metadata": {},
   "outputs": [
    {
     "name": "stderr",
     "output_type": "stream",
     "text": [
      "/Users/mdj/miniconda3/lib/python3.10/site-packages/tqdm/auto.py:21: TqdmWarning: IProgress not found. Please update jupyter and ipywidgets. See https://ipywidgets.readthedocs.io/en/stable/user_install.html\n",
      "  from .autonotebook import tqdm as notebook_tqdm\n"
     ]
    },
    {
     "name": "stdout",
     "output_type": "stream",
     "text": [
      "                                       sentence1  \\\n",
      "0                         A plane is taking off.   \n",
      "1                A man is playing a large flute.   \n",
      "2  A man is spreading shreded cheese on a pizza.   \n",
      "3                   Three men are playing chess.   \n",
      "4                    A man is playing the cello.   \n",
      "\n",
      "                                           sentence2  label  idx  \n",
      "0                        An air plane is taking off.   5.00    0  \n",
      "1                          A man is playing a flute.   3.80    1  \n",
      "2  A man is spreading shredded cheese on an uncoo...   3.80    2  \n",
      "3                         Two men are playing chess.   2.60    3  \n",
      "4                 A man seated is playing the cello.   4.25    4  \n",
      "             label         idx\n",
      "count  5749.000000  5749.00000\n",
      "mean      2.700999  2874.00000\n",
      "std       1.464398  1659.73768\n",
      "min       0.000000     0.00000\n",
      "25%       1.500000  1437.00000\n",
      "50%       3.000000  2874.00000\n",
      "75%       3.800000  4311.00000\n",
      "max       5.000000  5748.00000\n"
     ]
    },
    {
     "data": {
      "image/png": "[encoded data removed]",
      "text/plain": [
       "<Figure size 640x480 with 1 Axes>"
      ]
     },
     "metadata": {},
     "output_type": "display_data"
    },
    {
     "data": {
      "image/png": "[encoded data removed]",
      "text/plain": [
       "<Figure size 640x480 with 1 Axes>"
      ]
     },
     "metadata": {},
     "output_type": "display_data"
    }
   ],
   "source": [
    "from datasets import load_dataset\n",
    "import pandas as pd\n",
    "import seaborn as sns\n",
    "import matplotlib.pyplot as plt\n",
    "\n",
    "# Load the dataset\n",
    "dataset = load_dataset('glue', 'stsb')\n",
    "\n",
    "# Convert the dataset to a pandas DataFrame for easy analysis\n",
    "df = pd.DataFrame(dataset['train'])\n",
    "\n",
    "# Display the first few rows of the DataFrame\n",
    "print(df.head())\n",
    "\n",
    "# Get some basic statistics about the dataset\n",
    "print(df.describe())\n",
    "\n",
    "# Visualize the distribution of scores\n",
    "sns.histplot(df['label'])\n",
    "plt.title('Distribution of Scores')\n",
    "plt.show()\n",
    "\n",
    "# Visualize the distribution of sentence lengths\n",
    "sentence_lengths = df['sentence1'].apply(len) + df['sentence2'].apply(len)\n",
    "sns.histplot(sentence_lengths)\n",
    "plt.title('Distribution of Sentence Lengths')\n",
    "plt.show()\n"
   ]
  },
  {
   "cell_type": "markdown",
   "metadata": {},
   "source": [
    "# Fine-tuning a model involves several steps:\n",
    "\n",
    "- Preprocessing the data: The data needs to be converted into a format that the model can understand. In the case of SBERT, this involves tokenizing the sentences.\n",
    "- Creating a dataloader: The dataloader is a PyTorch object that efficiently loads the data in batches.\n",
    "- Defining the model and optimizer: We need to create instances of the SBERT model and the optimizer that we will use to train it.\n",
    "- Training loop: The training loop is where the actual learning happens. It involves running the model on the training data, calculating the loss, and updating the model's parameters.\n",
    "- Evaluation loop: After each epoch of training, it's common to run the model on a validation set to see how well it's performing."
   ]
  },
  {
   "cell_type": "code",
   "execution_count": 3,
   "metadata": {},
   "outputs": [],
   "source": [
    "import torch\n",
    "from torch.utils.data import DataLoader\n",
    "from transformers import AutoTokenizer, AutoModelForSequenceClassification, AdamW\n",
    "\n",
    "# Preprocessing the data\n",
    "tokenizer = AutoTokenizer.from_pretrained('sentence-transformers/all-MiniLM-L6-v2')\n",
    "train_encodings = tokenizer(df['sentence1'].tolist(), df['sentence2'].tolist(), truncation=True, padding=True)\n",
    "\n",
    "# Creating a PyTorch dataset\n",
    "class STSBDataset(torch.utils.data.Dataset):\n",
    "    def __init__(self, encodings, labels):\n",
    "        self.encodings = encodings\n",
    "        self.labels = labels\n",
    "\n",
    "    def __getitem__(self, idx):\n",
    "        item = {key: torch.tensor(val[idx]) for key, val in self.encodings.items()}\n",
    "        item['labels'] = torch.tensor(self.labels[idx])\n",
    "        return item\n",
    "\n",
    "    def __len__(self):\n",
    "        return len(self.labels)\n",
    "\n",
    "train_dataset = STSBDataset(train_encodings, df['label'].tolist())\n",
    "\n",
    "# Creating a dataloader\n",
    "train_loader = DataLoader(train_dataset, batch_size=16, shuffle=True)\n"
   ]
  },
  {
   "cell_type": "code",
   "execution_count": 4,
   "metadata": {},
   "outputs": [
    {
     "name": "stderr",
     "output_type": "stream",
     "text": [
      "Some weights of BertForSequenceClassification were not initialized from the model checkpoint at sentence-transformers/all-MiniLM-L6-v2 and are newly initialized: ['classifier.weight', 'classifier.bias']\n",
      "You should probably TRAIN this model on a down-stream task to be able to use it for predictions and inference.\n",
      "/Users/mdj/miniconda3/lib/python3.10/site-packages/transformers/optimization.py:411: FutureWarning: This implementation of AdamW is deprecated and will be removed in a future version. Use the PyTorch implementation torch.optim.AdamW instead, or set `no_deprecation_warning=True` to disable this warning\n",
      "  warnings.warn(\n"
     ]
    }
   ],
   "source": [
    "# Defining the model and optimizer\n",
    "model = AutoModelForSequenceClassification.from_pretrained('sentence-transformers/all-MiniLM-L6-v2', num_labels=1)\n",
    "optimizer = AdamW(model.parameters(), lr=1e-5)"
   ]
  },
  {
   "cell_type": "code",
   "execution_count": 5,
   "metadata": {},
   "outputs": [
    {
     "data": {
      "image/png": "[encoded data removed]",
      "text/plain": [
       "<Figure size 640x480 with 1 Axes>"
      ]
     },
     "metadata": {},
     "output_type": "display_data"
    },
    {
     "name": "stderr",
     "output_type": "stream",
     "text": [
      "100%|██████████| 360/360 [03:09<00:00,  1.90it/s]\n",
      "100%|██████████| 360/360 [00:45<00:00,  7.91it/s]\n"
     ]
    }
   ],
   "source": [
    "from tqdm import tqdm\n",
    "import matplotlib.pyplot as plt\n",
    "from IPython.display import clear_output\n",
    "\n",
    "# Prepare a list to save loss values\n",
    "loss_values = []\n",
    "\n",
    "# Training loop\n",
    "for epoch in range(3):  # we'll train for 3 epochs\n",
    "    model.train()\n",
    "    for batch in tqdm(train_loader):\n",
    "        optimizer.zero_grad()\n",
    "        outputs = model(**batch)\n",
    "        loss = outputs.loss\n",
    "        loss.backward()\n",
    "        optimizer.step()\n",
    "\n",
    "        # Save the loss value for this batch\n",
    "        loss_values.append(loss.item())\n",
    "        # Clear the previous plot\n",
    "        clear_output(wait=True)\n",
    "        # Plot the loss values\n",
    "        plt.plot(loss_values)\n",
    "        plt.title('Training Loss')\n",
    "        plt.xlabel('Batch')\n",
    "        plt.ylabel('Loss')\n",
    "        plt.show()\n",
    "\n",
    "\n",
    "# Evaluation loop\n",
    "model.eval()\n",
    "with torch.no_grad():\n",
    "    for batch in tqdm(train_loader):\n",
    "        outputs = model(**batch)\n",
    "        logits = outputs.logits\n",
    "        # Here you could calculate some metric based on the logits and the labels\n"
   ]
  },
  {
   "cell_type": "code",
   "execution_count": 6,
   "metadata": {},
   "outputs": [
    {
     "name": "stderr",
     "output_type": "stream",
     "text": [
      "100%|██████████| 94/94 [00:08<00:00, 10.48it/s]"
     ]
    },
    {
     "name": "stdout",
     "output_type": "stream",
     "text": [
      "Validation Mean Squared Error: 0.7757673859596252\n"
     ]
    },
    {
     "name": "stderr",
     "output_type": "stream",
     "text": [
      "\n"
     ]
    }
   ],
   "source": [
    "# Validation Set\n",
    "from sklearn.metrics import mean_squared_error\n",
    "\n",
    "\n",
    "# Convert the validation dataset to a pandas DataFrame\n",
    "val_df = pd.DataFrame(dataset['validation'])\n",
    "\n",
    "# Preprocess the validation data\n",
    "val_encodings = tokenizer(val_df['sentence1'].tolist(), val_df['sentence2'].tolist(), truncation=True, padding=True)\n",
    "\n",
    "# Create a PyTorch dataset for the validation data\n",
    "val_dataset = STSBDataset(val_encodings, val_df['label'].tolist())\n",
    "\n",
    "# Create a dataloader for the validation data\n",
    "val_loader = DataLoader(val_dataset, batch_size=16, shuffle=False)\n",
    "\n",
    "# Evaluation loop\n",
    "model.eval()\n",
    "all_logits = []\n",
    "all_labels = []\n",
    "with torch.no_grad():\n",
    "    for batch in tqdm(val_loader):\n",
    "        outputs = model(**batch)\n",
    "        logits = outputs.logits\n",
    "        all_logits.append(logits)\n",
    "        all_labels.append(batch['labels'])\n",
    "\n",
    "mse = mean_squared_error(torch.cat(all_labels).numpy(), torch.cat(all_logits).numpy())\n",
    "print(f'Validation Mean Squared Error: {mse}')\n"
   ]
  },
  {
   "cell_type": "code",
   "execution_count": 8,
   "metadata": {},
   "outputs": [
    {
     "name": "stdout",
     "output_type": "stream",
     "text": [
      "Similarity between sentence 1 and 2: 0.9087390303611755\n",
      "Similarity between sentence 1 and 3: 0.058103274554014206\n"
     ]
    }
   ],
   "source": [
    "# Test the model by getting embeddings\n",
    "\n",
    "from transformers import AutoModel\n",
    "import numpy as np\n",
    "from scipy.spatial.distance import cosine\n",
    "\n",
    "\n",
    "# Define an instance of AutoModel\n",
    "embedding_model = AutoModel.from_pretrained('sentence-transformers/all-MiniLM-L6-v2')\n",
    "\n",
    "# Define three sample sentences\n",
    "sentence1 = \"A dog is running in the park.\"\n",
    "sentence2 = \"A canine is jogging in the park.\"\n",
    "sentence3 = \"An apple is a type of fruit.\"\n",
    "\n",
    "# Tokenize the sentences\n",
    "inputs1 = tokenizer(sentence1, return_tensors='pt', truncation=True, padding=True)\n",
    "inputs2 = tokenizer(sentence2, return_tensors='pt', truncation=True, padding=True)\n",
    "inputs3 = tokenizer(sentence3, return_tensors='pt', truncation=True, padding=True)\n",
    "\n",
    "# Compute the embeddings\n",
    "with torch.no_grad():\n",
    "    embedding_model.eval()\n",
    "    outputs1 = embedding_model(**inputs1)\n",
    "    outputs2 = embedding_model(**inputs2)\n",
    "    outputs3 = embedding_model(**inputs3)\n",
    "\n",
    "# Perform mean pooling to get sentence embeddings\n",
    "embeddings1 = outputs1.last_hidden_state.mean(dim=1).numpy()[0]\n",
    "embeddings2 = outputs2.last_hidden_state.mean(dim=1).numpy()[0]\n",
    "embeddings3 = outputs3.last_hidden_state.mean(dim=1).numpy()[0]\n",
    "\n",
    "# Compute the cosine similarity between the embeddings\n",
    "similarity1_2 = 1 - cosine(embeddings1, embeddings2)\n",
    "similarity1_3 = 1 - cosine(embeddings1, embeddings3)\n",
    "\n",
    "print(f'Similarity between sentence 1 and 2: {similarity1_2}')\n",
    "print(f'Similarity between sentence 1 and 3: {similarity1_3}')\n"
   ]
  },
  {
   "cell_type": "code",
   "execution_count": 9,
   "metadata": {},
   "outputs": [
    {
     "data": {
      "image/png": "[encoded data removed]",
      "text/plain": [
       "<Figure size 640x480 with 1 Axes>"
      ]
     },
     "metadata": {},
     "output_type": "display_data"
    }
   ],
   "source": [
    "from sklearn.decomposition import PCA\n",
    "import matplotlib.pyplot as plt\n",
    "\n",
    "# Put the embeddings in a list\n",
    "embeddings = [embeddings1, embeddings2, embeddings3]\n",
    "\n",
    "# Create a PCA object\n",
    "pca = PCA(n_components=2)\n",
    "\n",
    "# Fit the PCA object to the embeddings and transform the embeddings\n",
    "embeddings_pca = pca.fit_transform(embeddings)\n",
    "\n",
    "# Create a plot\n",
    "plt.scatter(embeddings_pca[:,0], embeddings_pca[:,1])\n",
    "\n",
    "# Add labels to the points\n",
    "for i, txt in enumerate([\"Sentence 1\", \"Sentence 2\", \"Sentence 3\"]):\n",
    "    plt.annotate(txt, (embeddings_pca[i,0], embeddings_pca[i,1]))\n",
    "\n",
    "plt.show()\n"
   ]
  },
  {
   "cell_type": "code",
   "execution_count": 10,
   "metadata": {},
   "outputs": [
    {
     "name": "stdout",
     "output_type": "stream",
     "text": [
      "huggingface/tokenizers: The current process just got forked, after parallelism has already been used. Disabling parallelism to avoid deadlocks...\n",
      "To disable this warning, you can either:\n",
      "\t- Avoid using `tokenizers` before the fork if possible\n",
      "\t- Explicitly set the environment variable TOKENIZERS_PARALLELISM=(true | false)\n"
     ]
    },
    {
     "data": {
      "image/png": "[encoded data removed]",
      "text/plain": [
       "<Figure size 640x480 with 1 Axes>"
      ]
     },
     "metadata": {},
     "output_type": "display_data"
    }
   ],
   "source": [
    "from sklearn.manifold import TSNE\n",
    "import numpy as np\n",
    "\n",
    "# Convert the list of embeddings to a numpy array\n",
    "embeddings_array = np.array(embeddings)\n",
    "\n",
    "# Create a t-SNE object with perplexity less than the number of samples\n",
    "tsne = TSNE(n_components=2, perplexity=2)\n",
    "\n",
    "# Fit the t-SNE object to the embeddings and transform the embeddings\n",
    "embeddings_tsne = tsne.fit_transform(embeddings_array)\n",
    "\n",
    "# Create a plot\n",
    "plt.scatter(embeddings_tsne[:,0], embeddings_tsne[:,1])\n",
    "\n",
    "# Add labels to the points\n",
    "for i, txt in enumerate([\"Sentence 1\", \"Sentence 2\", \"Sentence 3\"]):\n",
    "    plt.annotate(txt, (embeddings_tsne[i,0], embeddings_tsne[i,1]))\n",
    "\n",
    "plt.show()\n"
   ]
  },
  {
   "cell_type": "code",
   "execution_count": 11,
   "metadata": {},
   "outputs": [
    {
     "data": {
      "application/vnd.plotly.v1+json": {
       "config": {
        "plotlyServerURL": "https://plot.ly"
       },
       "data": [
        {
         "hovertemplate": "x=%{x}<br>y=%{y}<br>z=%{z}<br>sentence=%{text}<extra></extra>",
         "legendgroup": "",
         "marker": {
          "color": "#636efa",
          "symbol": "circle"
         },
         "mode": "markers+text",
         "name": "",
         "scene": "scene",
         "showlegend": false,
         "text": [
          "A dog is running in the park.",
          "A canine is jogging in the park.",
          "An apple is a type of fruit.",
          "The cat sat on the mat.",
          "A man is playing a guitar.",
          "The sun is shining brightly today.",
          "It's raining cats and dogs."
         ],
         "type": "scatter3d",
         "x": [
          -450.9362487792969,
          486.8666076660156,
          16.061092376708984,
          -65.87964630126953,
          77.58643341064453,
          -147.19512939453125,
          40.83546447753906
         ],
         "y": [
          -286.3034362792969,
          264.5714416503906,
          -207.56639099121094,
          41.402652740478516,
          142.98251342773438,
          -44.92667770385742,
          34.489994049072266
         ],
         "z": [
          184.30850219726562,
          -174.43453979492188,
          98.88351440429688,
          -278.3250732421875,
          208.51600646972656,
          13.082496643066406,
          -67.99076080322266
         ]
        }
       ],
       "layout": {
        "legend": {
         "tracegroupgap": 0
        },
        "margin": {
         "t": 60
        },
        "scene": {
         "domain": {
          "x": [
           0,
           1
          ],
          "y": [
           0,
           1
          ]
         },
         "xaxis": {
          "title": {
           "text": "x"
          }
         },
         "yaxis": {
          "title": {
           "text": "y"
          }
         },
         "zaxis": {
          "title": {
           "text": "z"
          }
         }
        },
        "template": {
         "data": {
          "bar": [
           {
            "error_x": {
             "color": "#2a3f5f"
            },
            "error_y": {
             "color": "#2a3f5f"
            },
            "marker": {
             "line": {
              "color": "#E5ECF6",
              "width": 0.5
             },
             "pattern": {
              "fillmode": "overlay",
              "size": 10,
              "solidity": 0.2
             }
            },
            "type": "bar"
           }
          ],
          "barpolar": [
           {
            "marker": {
             "line": {
              "color": "#E5ECF6",
              "width": 0.5
             },
             "pattern": {
              "fillmode": "overlay",
              "size": 10,
              "solidity": 0.2
             }
            },
            "type": "barpolar"
           }
          ],
          "carpet": [
           {
            "aaxis": {
             "endlinecolor": "#2a3f5f",
             "gridcolor": "white",
             "linecolor": "white",
             "minorgridcolor": "white",
             "startlinecolor": "#2a3f5f"
            },
            "baxis": {
             "endlinecolor": "#2a3f5f",
             "gridcolor": "white",
             "linecolor": "white",
             "minorgridcolor": "white",
             "startlinecolor": "#2a3f5f"
            },
            "type": "carpet"
           }
          ],
          "choropleth": [
           {
            "colorbar": {
             "outlinewidth": 0,
             "ticks": ""
            },
            "type": "choropleth"
           }
          ],
          "contour": [
           {
            "colorbar": {
             "outlinewidth": 0,
             "ticks": ""
            },
            "colorscale": [
             [
              0,
              "#0d0887"
             ],
             [
              0.1111111111111111,
              "#46039f"
             ],
             [
              0.2222222222222222,
              "#7201a8"
             ],
             [
              0.3333333333333333,
              "#9c179e"
             ],
             [
              0.4444444444444444,
              "#bd3786"
             ],
             [
              0.5555555555555556,
              "#d8576b"
             ],
             [
              0.6666666666666666,
              "#ed7953"
             ],
             [
              0.7777777777777778,
              "#fb9f3a"
             ],
             [
              0.8888888888888888,
              "#fdca26"
             ],
             [
              1,
              "#f0f921"
             ]
            ],
            "type": "contour"
           }
          ],
          "contourcarpet": [
           {
            "colorbar": {
             "outlinewidth": 0,
             "ticks": ""
            },
            "type": "contourcarpet"
           }
          ],
          "heatmap": [
           {
            "colorbar": {
             "outlinewidth": 0,
             "ticks": ""
            },
            "colorscale": [
             [
              0,
              "#0d0887"
             ],
             [
              0.1111111111111111,
              "#46039f"
             ],
             [
              0.2222222222222222,
              "#7201a8"
             ],
             [
              0.3333333333333333,
              "#9c179e"
             ],
             [
              0.4444444444444444,
              "#bd3786"
             ],
             [
              0.5555555555555556,
              "#d8576b"
             ],
             [
              0.6666666666666666,
              "#ed7953"
             ],
             [
              0.7777777777777778,
              "#fb9f3a"
             ],
             [
              0.8888888888888888,
              "#fdca26"
             ],
             [
              1,
              "#f0f921"
             ]
            ],
            "type": "heatmap"
           }
          ],
          "heatmapgl": [
           {
            "colorbar": {
             "outlinewidth": 0,
             "ticks": ""
            },
            "colorscale": [
             [
              0,
              "#0d0887"
             ],
             [
              0.1111111111111111,
              "#46039f"
             ],
             [
              0.2222222222222222,
              "#7201a8"
             ],
             [
              0.3333333333333333,
              "#9c179e"
             ],
             [
              0.4444444444444444,
              "#bd3786"
             ],
             [
              0.5555555555555556,
              "#d8576b"
             ],
             [
              0.6666666666666666,
              "#ed7953"
             ],
             [
              0.7777777777777778,
              "#fb9f3a"
             ],
             [
              0.8888888888888888,
              "#fdca26"
             ],
             [
              1,
              "#f0f921"
             ]
            ],
            "type": "heatmapgl"
           }
          ],
          "histogram": [
           {
            "marker": {
             "pattern": {
              "fillmode": "overlay",
              "size": 10,
              "solidity": 0.2
             }
            },
            "type": "histogram"
           }
          ],
          "histogram2d": [
           {
            "colorbar": {
             "outlinewidth": 0,
             "ticks": ""
            },
            "colorscale": [
             [
              0,
              "#0d0887"
             ],
             [
              0.1111111111111111,
              "#46039f"
             ],
             [
              0.2222222222222222,
              "#7201a8"
             ],
             [
              0.3333333333333333,
              "#9c179e"
             ],
             [
              0.4444444444444444,
              "#bd3786"
             ],
             [
              0.5555555555555556,
              "#d8576b"
             ],
             [
              0.6666666666666666,
              "#ed7953"
             ],
             [
              0.7777777777777778,
              "#fb9f3a"
             ],
             [
              0.8888888888888888,
              "#fdca26"
             ],
             [
              1,
              "#f0f921"
             ]
            ],
            "type": "histogram2d"
           }
          ],
          "histogram2dcontour": [
           {
            "colorbar": {
             "outlinewidth": 0,
             "ticks": ""
            },
            "colorscale": [
             [
              0,
              "#0d0887"
             ],
             [
              0.1111111111111111,
              "#46039f"
             ],
             [
              0.2222222222222222,
              "#7201a8"
             ],
             [
              0.3333333333333333,
              "#9c179e"
             ],
             [
              0.4444444444444444,
              "#bd3786"
             ],
             [
              0.5555555555555556,
              "#d8576b"
             ],
             [
              0.6666666666666666,
              "#ed7953"
             ],
             [
              0.7777777777777778,
              "#fb9f3a"
             ],
             [
              0.8888888888888888,
              "#fdca26"
             ],
             [
              1,
              "#f0f921"
             ]
            ],
            "type": "histogram2dcontour"
           }
          ],
          "mesh3d": [
           {
            "colorbar": {
             "outlinewidth": 0,
             "ticks": ""
            },
            "type": "mesh3d"
           }
          ],
          "parcoords": [
           {
            "line": {
             "colorbar": {
              "outlinewidth": 0,
              "ticks": ""
             }
            },
            "type": "parcoords"
           }
          ],
          "pie": [
           {
            "automargin": true,
            "type": "pie"
           }
          ],
          "scatter": [
           {
            "fillpattern": {
             "fillmode": "overlay",
             "size": 10,
             "solidity": 0.2
            },
            "type": "scatter"
           }
          ],
          "scatter3d": [
           {
            "line": {
             "colorbar": {
              "outlinewidth": 0,
              "ticks": ""
             }
            },
            "marker": {
             "colorbar": {
              "outlinewidth": 0,
              "ticks": ""
             }
            },
            "type": "scatter3d"
           }
          ],
          "scattercarpet": [
           {
            "marker": {
             "colorbar": {
              "outlinewidth": 0,
              "ticks": ""
             }
            },
            "type": "scattercarpet"
           }
          ],
          "scattergeo": [
           {
            "marker": {
             "colorbar": {
              "outlinewidth": 0,
              "ticks": ""
             }
            },
            "type": "scattergeo"
           }
          ],
          "scattergl": [
           {
            "marker": {
             "colorbar": {
              "outlinewidth": 0,
              "ticks": ""
             }
            },
            "type": "scattergl"
           }
          ],
          "scattermapbox": [
           {
            "marker": {
             "colorbar": {
              "outlinewidth": 0,
              "ticks": ""
             }
            },
            "type": "scattermapbox"
           }
          ],
          "scatterpolar": [
           {
            "marker": {
             "colorbar": {
              "outlinewidth": 0,
              "ticks": ""
             }
            },
            "type": "scatterpolar"
           }
          ],
          "scatterpolargl": [
           {
            "marker": {
             "colorbar": {
              "outlinewidth": 0,
              "ticks": ""
             }
            },
            "type": "scatterpolargl"
           }
          ],
          "scatterternary": [
           {
            "marker": {
             "colorbar": {
              "outlinewidth": 0,
              "ticks": ""
             }
            },
            "type": "scatterternary"
           }
          ],
          "surface": [
           {
            "colorbar": {
             "outlinewidth": 0,
             "ticks": ""
            },
            "colorscale": [
             [
              0,
              "#0d0887"
             ],
             [
              0.1111111111111111,
              "#46039f"
             ],
             [
              0.2222222222222222,
              "#7201a8"
             ],
             [
              0.3333333333333333,
              "#9c179e"
             ],
             [
              0.4444444444444444,
              "#bd3786"
             ],
             [
              0.5555555555555556,
              "#d8576b"
             ],
             [
              0.6666666666666666,
              "#ed7953"
             ],
             [
              0.7777777777777778,
              "#fb9f3a"
             ],
             [
              0.8888888888888888,
              "#fdca26"
             ],
             [
              1,
              "#f0f921"
             ]
            ],
            "type": "surface"
           }
          ],
          "table": [
           {
            "cells": {
             "fill": {
              "color": "#EBF0F8"
             },
             "line": {
              "color": "white"
             }
            },
            "header": {
             "fill": {
              "color": "#C8D4E3"
             },
             "line": {
              "color": "white"
             }
            },
            "type": "table"
           }
          ]
         },
         "layout": {
          "annotationdefaults": {
           "arrowcolor": "#2a3f5f",
           "arrowhead": 0,
           "arrowwidth": 1
          },
          "autotypenumbers": "strict",
          "coloraxis": {
           "colorbar": {
            "outlinewidth": 0,
            "ticks": ""
           }
          },
          "colorscale": {
           "diverging": [
            [
             0,
             "#8e0152"
            ],
            [
             0.1,
             "#c51b7d"
            ],
            [
             0.2,
             "#de77ae"
            ],
            [
             0.3,
             "#f1b6da"
            ],
            [
             0.4,
             "#fde0ef"
            ],
            [
             0.5,
             "#f7f7f7"
            ],
            [
             0.6,
             "#e6f5d0"
            ],
            [
             0.7,
             "#b8e186"
            ],
            [
             0.8,
             "#7fbc41"
            ],
            [
             0.9,
             "#4d9221"
            ],
            [
             1,
             "#276419"
            ]
           ],
           "sequential": [
            [
             0,
             "#0d0887"
            ],
            [
             0.1111111111111111,
             "#46039f"
            ],
            [
             0.2222222222222222,
             "#7201a8"
            ],
            [
             0.3333333333333333,
             "#9c179e"
            ],
            [
             0.4444444444444444,
             "#bd3786"
            ],
            [
             0.5555555555555556,
             "#d8576b"
            ],
            [
             0.6666666666666666,
             "#ed7953"
            ],
            [
             0.7777777777777778,
             "#fb9f3a"
            ],
            [
             0.8888888888888888,
             "#fdca26"
            ],
            [
             1,
             "#f0f921"
            ]
           ],
           "sequentialminus": [
            [
             0,
             "#0d0887"
            ],
            [
             0.1111111111111111,
             "#46039f"
            ],
            [
             0.2222222222222222,
             "#7201a8"
            ],
            [
             0.3333333333333333,
             "#9c179e"
            ],
            [
             0.4444444444444444,
             "#bd3786"
            ],
            [
             0.5555555555555556,
             "#d8576b"
            ],
            [
             0.6666666666666666,
             "#ed7953"
            ],
            [
             0.7777777777777778,
             "#fb9f3a"
            ],
            [
             0.8888888888888888,
             "#fdca26"
            ],
            [
             1,
             "#f0f921"
            ]
           ]
          },
          "colorway": [
           "#636efa",
           "#EF553B",
           "#00cc96",
           "#ab63fa",
           "#FFA15A",
           "#19d3f3",
           "#FF6692",
           "#B6E880",
           "#FF97FF",
           "#FECB52"
          ],
          "font": {
           "color": "#2a3f5f"
          },
          "geo": {
           "bgcolor": "white",
           "lakecolor": "white",
           "landcolor": "#E5ECF6",
           "showlakes": true,
           "showland": true,
           "subunitcolor": "white"
          },
          "hoverlabel": {
           "align": "left"
          },
          "hovermode": "closest",
          "mapbox": {
           "style": "light"
          },
          "paper_bgcolor": "white",
          "plot_bgcolor": "#E5ECF6",
          "polar": {
           "angularaxis": {
            "gridcolor": "white",
            "linecolor": "white",
            "ticks": ""
           },
           "bgcolor": "#E5ECF6",
           "radialaxis": {
            "gridcolor": "white",
            "linecolor": "white",
            "ticks": ""
           }
          },
          "scene": {
           "xaxis": {
            "backgroundcolor": "#E5ECF6",
            "gridcolor": "white",
            "gridwidth": 2,
            "linecolor": "white",
            "showbackground": true,
            "ticks": "",
            "zerolinecolor": "white"
           },
           "yaxis": {
            "backgroundcolor": "#E5ECF6",
            "gridcolor": "white",
            "gridwidth": 2,
            "linecolor": "white",
            "showbackground": true,
            "ticks": "",
            "zerolinecolor": "white"
           },
           "zaxis": {
            "backgroundcolor": "#E5ECF6",
            "gridcolor": "white",
            "gridwidth": 2,
            "linecolor": "white",
            "showbackground": true,
            "ticks": "",
            "zerolinecolor": "white"
           }
          },
          "shapedefaults": {
           "line": {
            "color": "#2a3f5f"
           }
          },
          "ternary": {
           "aaxis": {
            "gridcolor": "white",
            "linecolor": "white",
            "ticks": ""
           },
           "baxis": {
            "gridcolor": "white",
            "linecolor": "white",
            "ticks": ""
           },
           "bgcolor": "#E5ECF6",
           "caxis": {
            "gridcolor": "white",
            "linecolor": "white",
            "ticks": ""
           }
          },
          "title": {
           "x": 0.05
          },
          "xaxis": {
           "automargin": true,
           "gridcolor": "white",
           "linecolor": "white",
           "ticks": "",
           "title": {
            "standoff": 15
           },
           "zerolinecolor": "white",
           "zerolinewidth": 2
          },
          "yaxis": {
           "automargin": true,
           "gridcolor": "white",
           "linecolor": "white",
           "ticks": "",
           "title": {
            "standoff": 15
           },
           "zerolinecolor": "white",
           "zerolinewidth": 2
          }
         }
        }
       }
      }
     },
     "metadata": {},
     "output_type": "display_data"
    }
   ],
   "source": [
    "import plotly.express as px\n",
    "from sklearn.manifold import TSNE\n",
    "import numpy as np\n",
    "\n",
    "# Define a larger set of sentences\n",
    "sentences = [\"A dog is running in the park.\",\n",
    "             \"A canine is jogging in the park.\",\n",
    "             \"An apple is a type of fruit.\",\n",
    "             \"The cat sat on the mat.\",\n",
    "             \"A man is playing a guitar.\",\n",
    "             \"The sun is shining brightly today.\",\n",
    "             \"It's raining cats and dogs.\"]\n",
    "\n",
    "# Compute the embeddings for all sentences\n",
    "embeddings = []\n",
    "with torch.no_grad():\n",
    "    embedding_model.eval()\n",
    "    for sentence in sentences:\n",
    "        inputs = tokenizer(sentence, return_tensors='pt', truncation=True, padding=True)\n",
    "        outputs = embedding_model(**inputs)\n",
    "        embeddings.append(outputs.last_hidden_state.mean(dim=1).numpy()[0])\n",
    "\n",
    "# Convert the list of embeddings to a numpy array\n",
    "embeddings_array = np.array(embeddings)\n",
    "\n",
    "# Use t-SNE to reduce the dimensionality of the embeddings to 3 dimensions\n",
    "tsne = TSNE(n_components=3, perplexity=2)\n",
    "embeddings_tsne = tsne.fit_transform(embeddings_array)\n",
    "\n",
    "# Create a DataFrame with the reduced embeddings and the sentences\n",
    "df = pd.DataFrame(embeddings_tsne, columns=['x', 'y', 'z'])\n",
    "df['sentence'] = sentences\n",
    "\n",
    "# Create an interactive 3D scatter plot of the reduced embeddings\n",
    "fig = px.scatter_3d(df, x='x', y='y', z='z', text='sentence')\n",
    "fig.show()\n"
   ]
  }
 ],
 "metadata": {
  "kernelspec": {
   "display_name": "base",
   "language": "python",
   "name": "python3"
  },
  "language_info": {
   "codemirror_mode": {
    "name": "ipython",
    "version": 3
   },
   "file_extension": ".py",
   "mimetype": "text/x-python",
   "name": "python",
   "nbconvert_exporter": "python",
   "pygments_lexer": "ipython3",
   "version": "3.10.10"
  },
  "orig_nbformat": 4
 },
 "nbformat": 4,
 "nbformat_minor": 2
}
